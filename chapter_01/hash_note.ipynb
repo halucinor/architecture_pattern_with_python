{
 "cells": [
  {
   "cell_type": "code",
   "execution_count": null,
   "metadata": {
    "collapsed": true
   },
   "outputs": [],
   "source": [
    "class Obj:\n",
    "    def __init__(self, t):\n",
    "        self.x = t\n",
    "\n",
    "    def __eq__(self, other):\n",
    "        return self.x == other.x\n",
    "\n",
    "    def __hash__(self):\n",
    "        return hash(self.x)\n",
    "\n",
    "    def __str__(self):\n",
    "        return f\"Obj: {self.x}\"\n",
    "\n"
   ]
  },
  {
   "cell_type": "code",
   "execution_count": 1,
   "outputs": [
    {
     "name": "stdout",
     "output_type": "stream",
     "text": [
      "Hash of x: 272287992\n",
      "id of x: 4356607872\n",
      "id of x >> 4: 272287992\n",
      "Is x equal to itself? True\n"
     ]
    }
   ],
   "source": [
    "x = object()\n",
    "print(f'Hash of x: {hash(x)}')\n",
    "print(f'id of x: {id(x)}')\n",
    "print(f'id of x >> 4: {id(x) >> 4}')\n",
    "print (f'Is x equal to itself? {x == x}')"
   ],
   "metadata": {
    "collapsed": false,
    "ExecuteTime": {
     "end_time": "2024-03-12T14:15:43.913714Z",
     "start_time": "2024-03-12T14:15:43.876517Z"
    }
   }
  },
  {
   "cell_type": "code",
   "execution_count": 2,
   "outputs": [
    {
     "name": "stdout",
     "output_type": "stream",
     "text": [
      "Is never_equal in a set of itself? True\n"
     ]
    }
   ],
   "source": [
    "class NeverEqual:\n",
    "    def __eq__(self, other):\n",
    "        return False\n",
    "    def __hash__(self):\n",
    "        return id(self) >> 4  # Note this is problematic but is only used for the purpose of this example\n",
    "\n",
    "never_equal = NeverEqual()\n",
    "print(f'Is never_equal in a set of itself? {never_equal in set([never_equal])}')"
   ],
   "metadata": {
    "collapsed": false,
    "ExecuteTime": {
     "end_time": "2024-03-12T14:16:54.702295Z",
     "start_time": "2024-03-12T14:16:54.693339Z"
    }
   }
  },
  {
   "cell_type": "markdown",
   "source": [],
   "metadata": {
    "collapsed": false
   }
  },
  {
   "cell_type": "code",
   "execution_count": 3,
   "outputs": [
    {
     "name": "stdout",
     "output_type": "stream",
     "text": [
      "Calling hash for a: 42\n",
      "Calling hash for b: 37\n",
      "Calling hash for c: 42\n"
     ]
    },
    {
     "data": {
      "text/plain": "True"
     },
     "execution_count": 3,
     "metadata": {},
     "output_type": "execute_result"
    }
   ],
   "source": [
    "class ReportsHash:\n",
    "    def __init__(self, value, name):\n",
    "        self._value = value\n",
    "        self._name = name\n",
    "    def __hash__(self):\n",
    "        hash_value = hash(self._value)\n",
    "        print(f'Calling hash for {self._name}: {hash_value}')\n",
    "        return hash_value\n",
    "    def __eq__(self, other):\n",
    "        return isinstance(other, ReportsHash) and self._value == other._value\n",
    "\n",
    "a = ReportsHash(42, 'a')\n",
    "b = ReportsHash(37, 'b')\n",
    "c = ReportsHash(42, 'c')\n",
    "s = {a, b}\n",
    "for x in range(10000):\n",
    "    s.add(x)\n",
    "c in s"
   ],
   "metadata": {
    "collapsed": false,
    "ExecuteTime": {
     "end_time": "2024-03-12T14:18:47.577607Z",
     "start_time": "2024-03-12T14:18:47.506116Z"
    }
   }
  },
  {
   "cell_type": "code",
   "execution_count": 4,
   "outputs": [
    {
     "name": "stdout",
     "output_type": "stream",
     "text": [
      "Object is in list: True\n",
      "Object is in set: True\n",
      "Logically equivalent object is in list: True\n",
      "Logically equivalent object is in set: True\n"
     ]
    }
   ],
   "source": [
    "class LiesAboutHash:\n",
    "    def __init__(self, map_value):\n",
    "        self.map_value = map_value\n",
    "    def __hash__(self):\n",
    "        return hash(tuple((k, v) for k, v in self.map_value.items()))\n",
    "    def __eq__(self, other):\n",
    "        return isinstance(other, LiesAboutHash) and self.map_value == other.map_value\n",
    "\n",
    "d = {'a': 1, 'b': 2, 'c': 3}\n",
    "x = LiesAboutHash(d)\n",
    "# Create a list and a set of the same object\n",
    "l = [x]\n",
    "s = set(l)\n",
    "print(f'Object is in list: {x in l}')\n",
    "print(f'Object is in set: {x in s}')\n",
    "print(f'Logically equivalent object is in list: {LiesAboutHash(d) in l}')\n",
    "print(f'Logically equivalent object is in set: {LiesAboutHash(d) in s}')"
   ],
   "metadata": {
    "collapsed": false,
    "ExecuteTime": {
     "end_time": "2024-03-12T14:19:34.657468Z",
     "start_time": "2024-03-12T14:19:34.630279Z"
    }
   }
  },
  {
   "cell_type": "code",
   "execution_count": 5,
   "outputs": [
    {
     "name": "stdout",
     "output_type": "stream",
     "text": [
      "Object is in list: True\n",
      "Object is in set: False\n",
      "Logically equivalent object is in list: True\n",
      "Logically equivalent object is in set: False\n"
     ]
    }
   ],
   "source": [
    "\n",
    "d['a'] = 42\n",
    "print(f'Object is in list: {x in l}')\n",
    "print(f'Object is in set: {x in s}')\n",
    "print(f'Logically equivalent object is in list: {LiesAboutHash(d) in l}')\n",
    "print(f'Logically equivalent object is in set: {LiesAboutHash(d) in s}')"
   ],
   "metadata": {
    "collapsed": false,
    "ExecuteTime": {
     "end_time": "2024-03-12T14:20:54.745093Z",
     "start_time": "2024-03-12T14:20:54.735265Z"
    }
   }
  },
  {
   "cell_type": "code",
   "execution_count": 10,
   "outputs": [
    {
     "data": {
      "text/plain": "[<__main__.LiesAboutHash at 0x1040c7ed0>]"
     },
     "execution_count": 10,
     "metadata": {},
     "output_type": "execute_result"
    }
   ],
   "source": [],
   "metadata": {
    "collapsed": false,
    "ExecuteTime": {
     "end_time": "2024-03-12T14:22:02.141512Z",
     "start_time": "2024-03-12T14:22:02.134848Z"
    }
   }
  },
  {
   "cell_type": "code",
   "execution_count": 13,
   "outputs": [],
   "source": [
    "class C:\n",
    "    def __init__(self,x):\n",
    "        self.x = x\n",
    "    def __repr__(self):\n",
    "        return f'C({self.x})'\n",
    "    def __hash__(self):\n",
    "        return hash(self.x)\n",
    "    def __eq__(self, other):\n",
    "        return (\n",
    "            self.__class__ == other.__class__ and\n",
    "            self.x == other.x\n",
    "        )\n"
   ],
   "metadata": {
    "collapsed": false,
    "ExecuteTime": {
     "end_time": "2024-03-12T14:27:32.793253Z",
     "start_time": "2024-03-12T14:27:32.791489Z"
    }
   }
  },
  {
   "cell_type": "code",
   "execution_count": 14,
   "outputs": [
    {
     "data": {
      "text/plain": "({C(1): 42}, {C(1)})"
     },
     "execution_count": 14,
     "metadata": {},
     "output_type": "execute_result"
    }
   ],
   "source": [
    "d = dict()\n",
    "s = set()\n",
    "c = C(1)\n",
    "d[c] = 42\n",
    "s.add(c)\n",
    "d, s"
   ],
   "metadata": {
    "collapsed": false,
    "ExecuteTime": {
     "end_time": "2024-03-12T14:27:33.132094Z",
     "start_time": "2024-03-12T14:27:33.128328Z"
    }
   }
  },
  {
   "cell_type": "code",
   "execution_count": 15,
   "outputs": [
    {
     "data": {
      "text/plain": "True"
     },
     "execution_count": 15,
     "metadata": {},
     "output_type": "execute_result"
    }
   ],
   "source": [
    "c in s and c in d"
   ],
   "metadata": {
    "collapsed": false,
    "ExecuteTime": {
     "end_time": "2024-03-12T14:27:47.810539Z",
     "start_time": "2024-03-12T14:27:47.796785Z"
    }
   }
  },
  {
   "cell_type": "code",
   "execution_count": 16,
   "outputs": [],
   "source": [
    "c.x = 2"
   ],
   "metadata": {
    "collapsed": false,
    "ExecuteTime": {
     "end_time": "2024-03-12T14:27:52.245062Z",
     "start_time": "2024-03-12T14:27:52.238040Z"
    }
   }
  },
  {
   "cell_type": "code",
   "execution_count": 17,
   "outputs": [
    {
     "data": {
      "text/plain": "False"
     },
     "execution_count": 17,
     "metadata": {},
     "output_type": "execute_result"
    }
   ],
   "source": [
    "c in s or c in d"
   ],
   "metadata": {
    "collapsed": false,
    "ExecuteTime": {
     "end_time": "2024-03-12T14:27:58.097056Z",
     "start_time": "2024-03-12T14:27:58.084708Z"
    }
   }
  },
  {
   "cell_type": "code",
   "execution_count": 19,
   "outputs": [
    {
     "ename": "KeyError",
     "evalue": "C(2)",
     "output_type": "error",
     "traceback": [
      "\u001B[0;31m---------------------------------------------------------------------------\u001B[0m",
      "\u001B[0;31mKeyError\u001B[0m                                  Traceback (most recent call last)",
      "File \u001B[0;32m~/workspace/architecture_pattern/venv/lib/python3.11/site-packages/IPython/core/formatters.py:711\u001B[0m, in \u001B[0;36mPlainTextFormatter.__call__\u001B[0;34m(self, obj)\u001B[0m\n\u001B[1;32m    704\u001B[0m stream \u001B[38;5;241m=\u001B[39m StringIO()\n\u001B[1;32m    705\u001B[0m printer \u001B[38;5;241m=\u001B[39m pretty\u001B[38;5;241m.\u001B[39mRepresentationPrinter(stream, \u001B[38;5;28mself\u001B[39m\u001B[38;5;241m.\u001B[39mverbose,\n\u001B[1;32m    706\u001B[0m     \u001B[38;5;28mself\u001B[39m\u001B[38;5;241m.\u001B[39mmax_width, \u001B[38;5;28mself\u001B[39m\u001B[38;5;241m.\u001B[39mnewline,\n\u001B[1;32m    707\u001B[0m     max_seq_length\u001B[38;5;241m=\u001B[39m\u001B[38;5;28mself\u001B[39m\u001B[38;5;241m.\u001B[39mmax_seq_length,\n\u001B[1;32m    708\u001B[0m     singleton_pprinters\u001B[38;5;241m=\u001B[39m\u001B[38;5;28mself\u001B[39m\u001B[38;5;241m.\u001B[39msingleton_printers,\n\u001B[1;32m    709\u001B[0m     type_pprinters\u001B[38;5;241m=\u001B[39m\u001B[38;5;28mself\u001B[39m\u001B[38;5;241m.\u001B[39mtype_printers,\n\u001B[1;32m    710\u001B[0m     deferred_pprinters\u001B[38;5;241m=\u001B[39m\u001B[38;5;28mself\u001B[39m\u001B[38;5;241m.\u001B[39mdeferred_printers)\n\u001B[0;32m--> 711\u001B[0m \u001B[43mprinter\u001B[49m\u001B[38;5;241;43m.\u001B[39;49m\u001B[43mpretty\u001B[49m\u001B[43m(\u001B[49m\u001B[43mobj\u001B[49m\u001B[43m)\u001B[49m\n\u001B[1;32m    712\u001B[0m printer\u001B[38;5;241m.\u001B[39mflush()\n\u001B[1;32m    713\u001B[0m \u001B[38;5;28;01mreturn\u001B[39;00m stream\u001B[38;5;241m.\u001B[39mgetvalue()\n",
      "File \u001B[0;32m~/workspace/architecture_pattern/venv/lib/python3.11/site-packages/IPython/lib/pretty.py:394\u001B[0m, in \u001B[0;36mRepresentationPrinter.pretty\u001B[0;34m(self, obj)\u001B[0m\n\u001B[1;32m    391\u001B[0m \u001B[38;5;28;01mfor\u001B[39;00m \u001B[38;5;28mcls\u001B[39m \u001B[38;5;129;01min\u001B[39;00m _get_mro(obj_class):\n\u001B[1;32m    392\u001B[0m     \u001B[38;5;28;01mif\u001B[39;00m \u001B[38;5;28mcls\u001B[39m \u001B[38;5;129;01min\u001B[39;00m \u001B[38;5;28mself\u001B[39m\u001B[38;5;241m.\u001B[39mtype_pprinters:\n\u001B[1;32m    393\u001B[0m         \u001B[38;5;66;03m# printer registered in self.type_pprinters\u001B[39;00m\n\u001B[0;32m--> 394\u001B[0m         \u001B[38;5;28;01mreturn\u001B[39;00m \u001B[38;5;28;43mself\u001B[39;49m\u001B[38;5;241;43m.\u001B[39;49m\u001B[43mtype_pprinters\u001B[49m\u001B[43m[\u001B[49m\u001B[38;5;28;43mcls\u001B[39;49m\u001B[43m]\u001B[49m\u001B[43m(\u001B[49m\u001B[43mobj\u001B[49m\u001B[43m,\u001B[49m\u001B[43m \u001B[49m\u001B[38;5;28;43mself\u001B[39;49m\u001B[43m,\u001B[49m\u001B[43m \u001B[49m\u001B[43mcycle\u001B[49m\u001B[43m)\u001B[49m\n\u001B[1;32m    395\u001B[0m     \u001B[38;5;28;01melse\u001B[39;00m:\n\u001B[1;32m    396\u001B[0m         \u001B[38;5;66;03m# deferred printer\u001B[39;00m\n\u001B[1;32m    397\u001B[0m         printer \u001B[38;5;241m=\u001B[39m \u001B[38;5;28mself\u001B[39m\u001B[38;5;241m.\u001B[39m_in_deferred_types(\u001B[38;5;28mcls\u001B[39m)\n",
      "File \u001B[0;32m~/workspace/architecture_pattern/venv/lib/python3.11/site-packages/IPython/lib/pretty.py:693\u001B[0m, in \u001B[0;36m_dict_pprinter_factory.<locals>.inner\u001B[0;34m(obj, p, cycle)\u001B[0m\n\u001B[1;32m    691\u001B[0m     p\u001B[38;5;241m.\u001B[39mpretty(key)\n\u001B[1;32m    692\u001B[0m     p\u001B[38;5;241m.\u001B[39mtext(\u001B[38;5;124m'\u001B[39m\u001B[38;5;124m: \u001B[39m\u001B[38;5;124m'\u001B[39m)\n\u001B[0;32m--> 693\u001B[0m     p\u001B[38;5;241m.\u001B[39mpretty(\u001B[43mobj\u001B[49m\u001B[43m[\u001B[49m\u001B[43mkey\u001B[49m\u001B[43m]\u001B[49m)\n\u001B[1;32m    694\u001B[0m p\u001B[38;5;241m.\u001B[39mend_group(step, end)\n",
      "\u001B[0;31mKeyError\u001B[0m: C(2)"
     ]
    }
   ],
   "source": [
    "d"
   ],
   "metadata": {
    "collapsed": false,
    "ExecuteTime": {
     "end_time": "2024-03-12T14:28:13.172942Z",
     "start_time": "2024-03-12T14:28:13.158213Z"
    }
   }
  },
  {
   "cell_type": "code",
   "execution_count": null,
   "outputs": [],
   "source": [],
   "metadata": {
    "collapsed": false
   }
  }
 ],
 "metadata": {
  "kernelspec": {
   "display_name": "Python 3",
   "language": "python",
   "name": "python3"
  },
  "language_info": {
   "codemirror_mode": {
    "name": "ipython",
    "version": 2
   },
   "file_extension": ".py",
   "mimetype": "text/x-python",
   "name": "python",
   "nbconvert_exporter": "python",
   "pygments_lexer": "ipython2",
   "version": "2.7.6"
  }
 },
 "nbformat": 4,
 "nbformat_minor": 0
}
